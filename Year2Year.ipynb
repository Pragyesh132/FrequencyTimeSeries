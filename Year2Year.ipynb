{
 "cells": [
  {
   "cell_type": "code",
   "execution_count": 1,
   "id": "d750af4c-1af1-4a70-81c8-84054bb15d5e",
   "metadata": {},
   "outputs": [],
   "source": [
    "import pandas as pd\n",
    "import matplotlib.pyplot as plt\n",
    "import seaborn as sns"
   ]
  },
  {
   "cell_type": "code",
   "execution_count": 103,
   "id": "750423d9-69ca-4631-a408-e575bd84173f",
   "metadata": {},
   "outputs": [],
   "source": [
    "file_path19 = []\n",
    "file_path18 = []\n",
    "file_path17 = []\n",
    "file_path16 = []\n",
    "for j in range(12):\n",
    "    file_path19.append(f\"Time series data/f 2019 {j+1}.csv\")\n",
    "    file_path18.append(f\"Time series data/f 2018 {j+1}.csv\")\n",
    "    file_path17.append(f\"Time series data/f 2017 {j+1}.csv\")\n",
    "    file_path16.append(f\"Time series data/f 2016 {j+1}.csv\")"
   ]
  },
  {
   "cell_type": "code",
   "execution_count": 105,
   "id": "8ef28036-f851-4df2-8323-d182a661897e",
   "metadata": {},
   "outputs": [],
   "source": [
    "df19 = [pd.read_csv(file) for file in file_path19]\n",
    "df_2019 = pd.concat(df19).reset_index(drop=True)"
   ]
  },
  {
   "cell_type": "code",
   "execution_count": 106,
   "id": "6e7b6641-82d0-4e17-9892-a642e1ac4ab5",
   "metadata": {},
   "outputs": [],
   "source": [
    "df18 = [pd.read_csv(file) for file in file_path18]\n",
    "df_2018 = pd.concat(df18).reset_index(drop=True)"
   ]
  },
  {
   "cell_type": "code",
   "execution_count": 107,
   "id": "5ef8543d-8ab4-4ccb-8622-122c2fd946de",
   "metadata": {},
   "outputs": [],
   "source": [
    "df17 = [pd.read_csv(file) for file in file_path17]\n",
    "df_2017 = pd.concat(df17).reset_index(drop=True)"
   ]
  },
  {
   "cell_type": "code",
   "execution_count": 108,
   "id": "00a4fc5b-d1b6-4709-a86e-18ef17b6eff3",
   "metadata": {},
   "outputs": [],
   "source": [
    "df16 = [pd.read_csv(file) for file in file_path16]\n",
    "df_2016 = pd.concat(df16).reset_index(drop=True)"
   ]
  },
  {
   "cell_type": "code",
   "execution_count": 113,
   "id": "7e65c27c-dbd7-417f-9bba-cb8309740588",
   "metadata": {},
   "outputs": [
    {
     "data": {
      "text/html": [
       "<div>\n",
       "<style scoped>\n",
       "    .dataframe tbody tr th:only-of-type {\n",
       "        vertical-align: middle;\n",
       "    }\n",
       "\n",
       "    .dataframe tbody tr th {\n",
       "        vertical-align: top;\n",
       "    }\n",
       "\n",
       "    .dataframe thead th {\n",
       "        text-align: right;\n",
       "    }\n",
       "</style>\n",
       "<table border=\"1\" class=\"dataframe\">\n",
       "  <thead>\n",
       "    <tr style=\"text-align: right;\">\n",
       "      <th></th>\n",
       "      <th>dtm</th>\n",
       "      <th>f</th>\n",
       "    </tr>\n",
       "  </thead>\n",
       "  <tbody>\n",
       "    <tr>\n",
       "      <th>0</th>\n",
       "      <td>2019-01-01 00:00:00 +0000</td>\n",
       "      <td>50.107</td>\n",
       "    </tr>\n",
       "    <tr>\n",
       "      <th>1</th>\n",
       "      <td>2019-01-01 00:00:01 +0000</td>\n",
       "      <td>50.095</td>\n",
       "    </tr>\n",
       "    <tr>\n",
       "      <th>2</th>\n",
       "      <td>2019-01-01 00:00:02 +0000</td>\n",
       "      <td>50.080</td>\n",
       "    </tr>\n",
       "    <tr>\n",
       "      <th>3</th>\n",
       "      <td>2019-01-01 00:00:03 +0000</td>\n",
       "      <td>50.065</td>\n",
       "    </tr>\n",
       "    <tr>\n",
       "      <th>4</th>\n",
       "      <td>2019-01-01 00:00:04 +0000</td>\n",
       "      <td>50.047</td>\n",
       "    </tr>\n",
       "    <tr>\n",
       "      <th>...</th>\n",
       "      <td>...</td>\n",
       "      <td>...</td>\n",
       "    </tr>\n",
       "    <tr>\n",
       "      <th>31535995</th>\n",
       "      <td>2019-12-31 23:59:55 +0000</td>\n",
       "      <td>50.113</td>\n",
       "    </tr>\n",
       "    <tr>\n",
       "      <th>31535996</th>\n",
       "      <td>2019-12-31 23:59:56 +0000</td>\n",
       "      <td>50.116</td>\n",
       "    </tr>\n",
       "    <tr>\n",
       "      <th>31535997</th>\n",
       "      <td>2019-12-31 23:59:57 +0000</td>\n",
       "      <td>50.117</td>\n",
       "    </tr>\n",
       "    <tr>\n",
       "      <th>31535998</th>\n",
       "      <td>2019-12-31 23:59:58 +0000</td>\n",
       "      <td>50.115</td>\n",
       "    </tr>\n",
       "    <tr>\n",
       "      <th>31535999</th>\n",
       "      <td>2019-12-31 23:59:59 +0000</td>\n",
       "      <td>50.117</td>\n",
       "    </tr>\n",
       "  </tbody>\n",
       "</table>\n",
       "<p>31536000 rows × 2 columns</p>\n",
       "</div>"
      ],
      "text/plain": [
       "                                dtm       f\n",
       "0         2019-01-01 00:00:00 +0000  50.107\n",
       "1         2019-01-01 00:00:01 +0000  50.095\n",
       "2         2019-01-01 00:00:02 +0000  50.080\n",
       "3         2019-01-01 00:00:03 +0000  50.065\n",
       "4         2019-01-01 00:00:04 +0000  50.047\n",
       "...                             ...     ...\n",
       "31535995  2019-12-31 23:59:55 +0000  50.113\n",
       "31535996  2019-12-31 23:59:56 +0000  50.116\n",
       "31535997  2019-12-31 23:59:57 +0000  50.117\n",
       "31535998  2019-12-31 23:59:58 +0000  50.115\n",
       "31535999  2019-12-31 23:59:59 +0000  50.117\n",
       "\n",
       "[31536000 rows x 2 columns]"
      ]
     },
     "execution_count": 113,
     "metadata": {},
     "output_type": "execute_result"
    }
   ],
   "source": [
    "df_2019"
   ]
  },
  {
   "cell_type": "code",
   "execution_count": 115,
   "id": "5a635cd9-23eb-45c7-b137-ff4b83caf6cf",
   "metadata": {},
   "outputs": [
    {
     "data": {
      "text/html": [
       "<div>\n",
       "<style scoped>\n",
       "    .dataframe tbody tr th:only-of-type {\n",
       "        vertical-align: middle;\n",
       "    }\n",
       "\n",
       "    .dataframe tbody tr th {\n",
       "        vertical-align: top;\n",
       "    }\n",
       "\n",
       "    .dataframe thead th {\n",
       "        text-align: right;\n",
       "    }\n",
       "</style>\n",
       "<table border=\"1\" class=\"dataframe\">\n",
       "  <thead>\n",
       "    <tr style=\"text-align: right;\">\n",
       "      <th></th>\n",
       "      <th>dtm</th>\n",
       "      <th>f</th>\n",
       "    </tr>\n",
       "  </thead>\n",
       "  <tbody>\n",
       "    <tr>\n",
       "      <th>0</th>\n",
       "      <td>2018-01-01 00:00:00 +0000</td>\n",
       "      <td>50.105</td>\n",
       "    </tr>\n",
       "    <tr>\n",
       "      <th>1</th>\n",
       "      <td>2018-01-01 00:00:01 +0000</td>\n",
       "      <td>50.092</td>\n",
       "    </tr>\n",
       "    <tr>\n",
       "      <th>2</th>\n",
       "      <td>2018-01-01 00:00:02 +0000</td>\n",
       "      <td>50.080</td>\n",
       "    </tr>\n",
       "    <tr>\n",
       "      <th>3</th>\n",
       "      <td>2018-01-01 00:00:03 +0000</td>\n",
       "      <td>50.065</td>\n",
       "    </tr>\n",
       "    <tr>\n",
       "      <th>4</th>\n",
       "      <td>2018-01-01 00:00:04 +0000</td>\n",
       "      <td>50.052</td>\n",
       "    </tr>\n",
       "    <tr>\n",
       "      <th>...</th>\n",
       "      <td>...</td>\n",
       "      <td>...</td>\n",
       "    </tr>\n",
       "    <tr>\n",
       "      <th>31535995</th>\n",
       "      <td>2018-12-31 23:59:55 +0000</td>\n",
       "      <td>50.102</td>\n",
       "    </tr>\n",
       "    <tr>\n",
       "      <th>31535996</th>\n",
       "      <td>2018-12-31 23:59:56 +0000</td>\n",
       "      <td>50.105</td>\n",
       "    </tr>\n",
       "    <tr>\n",
       "      <th>31535997</th>\n",
       "      <td>2018-12-31 23:59:57 +0000</td>\n",
       "      <td>50.107</td>\n",
       "    </tr>\n",
       "    <tr>\n",
       "      <th>31535998</th>\n",
       "      <td>2018-12-31 23:59:58 +0000</td>\n",
       "      <td>50.107</td>\n",
       "    </tr>\n",
       "    <tr>\n",
       "      <th>31535999</th>\n",
       "      <td>2018-12-31 23:59:59 +0000</td>\n",
       "      <td>50.110</td>\n",
       "    </tr>\n",
       "  </tbody>\n",
       "</table>\n",
       "<p>31536000 rows × 2 columns</p>\n",
       "</div>"
      ],
      "text/plain": [
       "                                dtm       f\n",
       "0         2018-01-01 00:00:00 +0000  50.105\n",
       "1         2018-01-01 00:00:01 +0000  50.092\n",
       "2         2018-01-01 00:00:02 +0000  50.080\n",
       "3         2018-01-01 00:00:03 +0000  50.065\n",
       "4         2018-01-01 00:00:04 +0000  50.052\n",
       "...                             ...     ...\n",
       "31535995  2018-12-31 23:59:55 +0000  50.102\n",
       "31535996  2018-12-31 23:59:56 +0000  50.105\n",
       "31535997  2018-12-31 23:59:57 +0000  50.107\n",
       "31535998  2018-12-31 23:59:58 +0000  50.107\n",
       "31535999  2018-12-31 23:59:59 +0000  50.110\n",
       "\n",
       "[31536000 rows x 2 columns]"
      ]
     },
     "execution_count": 115,
     "metadata": {},
     "output_type": "execute_result"
    }
   ],
   "source": [
    "df_2018"
   ]
  },
  {
   "cell_type": "code",
   "execution_count": 117,
   "id": "653673fe-bd53-4c86-98f9-f2afd10183c4",
   "metadata": {},
   "outputs": [
    {
     "data": {
      "text/html": [
       "<div>\n",
       "<style scoped>\n",
       "    .dataframe tbody tr th:only-of-type {\n",
       "        vertical-align: middle;\n",
       "    }\n",
       "\n",
       "    .dataframe tbody tr th {\n",
       "        vertical-align: top;\n",
       "    }\n",
       "\n",
       "    .dataframe thead th {\n",
       "        text-align: right;\n",
       "    }\n",
       "</style>\n",
       "<table border=\"1\" class=\"dataframe\">\n",
       "  <thead>\n",
       "    <tr style=\"text-align: right;\">\n",
       "      <th></th>\n",
       "      <th>dtm</th>\n",
       "      <th>f</th>\n",
       "    </tr>\n",
       "  </thead>\n",
       "  <tbody>\n",
       "    <tr>\n",
       "      <th>0</th>\n",
       "      <td>2017-01-01 00:00:00 +0000</td>\n",
       "      <td>50.020</td>\n",
       "    </tr>\n",
       "    <tr>\n",
       "      <th>1</th>\n",
       "      <td>2017-01-01 00:00:01 +0000</td>\n",
       "      <td>50.016</td>\n",
       "    </tr>\n",
       "    <tr>\n",
       "      <th>2</th>\n",
       "      <td>2017-01-01 00:00:02 +0000</td>\n",
       "      <td>50.010</td>\n",
       "    </tr>\n",
       "    <tr>\n",
       "      <th>3</th>\n",
       "      <td>2017-01-01 00:00:03 +0000</td>\n",
       "      <td>50.003</td>\n",
       "    </tr>\n",
       "    <tr>\n",
       "      <th>4</th>\n",
       "      <td>2017-01-01 00:00:04 +0000</td>\n",
       "      <td>49.996</td>\n",
       "    </tr>\n",
       "    <tr>\n",
       "      <th>...</th>\n",
       "      <td>...</td>\n",
       "      <td>...</td>\n",
       "    </tr>\n",
       "    <tr>\n",
       "      <th>31535995</th>\n",
       "      <td>2017-12-31 23:59:55 +0000</td>\n",
       "      <td>50.107</td>\n",
       "    </tr>\n",
       "    <tr>\n",
       "      <th>31535996</th>\n",
       "      <td>2017-12-31 23:59:56 +0000</td>\n",
       "      <td>50.110</td>\n",
       "    </tr>\n",
       "    <tr>\n",
       "      <th>31535997</th>\n",
       "      <td>2017-12-31 23:59:57 +0000</td>\n",
       "      <td>50.110</td>\n",
       "    </tr>\n",
       "    <tr>\n",
       "      <th>31535998</th>\n",
       "      <td>2017-12-31 23:59:58 +0000</td>\n",
       "      <td>50.107</td>\n",
       "    </tr>\n",
       "    <tr>\n",
       "      <th>31535999</th>\n",
       "      <td>2017-12-31 23:59:59 +0000</td>\n",
       "      <td>50.110</td>\n",
       "    </tr>\n",
       "  </tbody>\n",
       "</table>\n",
       "<p>31536000 rows × 2 columns</p>\n",
       "</div>"
      ],
      "text/plain": [
       "                                dtm       f\n",
       "0         2017-01-01 00:00:00 +0000  50.020\n",
       "1         2017-01-01 00:00:01 +0000  50.016\n",
       "2         2017-01-01 00:00:02 +0000  50.010\n",
       "3         2017-01-01 00:00:03 +0000  50.003\n",
       "4         2017-01-01 00:00:04 +0000  49.996\n",
       "...                             ...     ...\n",
       "31535995  2017-12-31 23:59:55 +0000  50.107\n",
       "31535996  2017-12-31 23:59:56 +0000  50.110\n",
       "31535997  2017-12-31 23:59:57 +0000  50.110\n",
       "31535998  2017-12-31 23:59:58 +0000  50.107\n",
       "31535999  2017-12-31 23:59:59 +0000  50.110\n",
       "\n",
       "[31536000 rows x 2 columns]"
      ]
     },
     "execution_count": 117,
     "metadata": {},
     "output_type": "execute_result"
    }
   ],
   "source": [
    "df_2017"
   ]
  },
  {
   "cell_type": "code",
   "execution_count": 119,
   "id": "eb1eeccd-3f0f-426a-95be-5e97ab4197f5",
   "metadata": {},
   "outputs": [
    {
     "data": {
      "text/html": [
       "<div>\n",
       "<style scoped>\n",
       "    .dataframe tbody tr th:only-of-type {\n",
       "        vertical-align: middle;\n",
       "    }\n",
       "\n",
       "    .dataframe tbody tr th {\n",
       "        vertical-align: top;\n",
       "    }\n",
       "\n",
       "    .dataframe thead th {\n",
       "        text-align: right;\n",
       "    }\n",
       "</style>\n",
       "<table border=\"1\" class=\"dataframe\">\n",
       "  <thead>\n",
       "    <tr style=\"text-align: right;\">\n",
       "      <th></th>\n",
       "      <th>dtm</th>\n",
       "      <th>f</th>\n",
       "    </tr>\n",
       "  </thead>\n",
       "  <tbody>\n",
       "    <tr>\n",
       "      <th>0</th>\n",
       "      <td>2016-01-01 00:00:00 +0000</td>\n",
       "      <td>50.063</td>\n",
       "    </tr>\n",
       "    <tr>\n",
       "      <th>1</th>\n",
       "      <td>2016-01-01 00:00:01 +0000</td>\n",
       "      <td>50.060</td>\n",
       "    </tr>\n",
       "    <tr>\n",
       "      <th>2</th>\n",
       "      <td>2016-01-01 00:00:02 +0000</td>\n",
       "      <td>50.053</td>\n",
       "    </tr>\n",
       "    <tr>\n",
       "      <th>3</th>\n",
       "      <td>2016-01-01 00:00:03 +0000</td>\n",
       "      <td>50.044</td>\n",
       "    </tr>\n",
       "    <tr>\n",
       "      <th>4</th>\n",
       "      <td>2016-01-01 00:00:04 +0000</td>\n",
       "      <td>50.038</td>\n",
       "    </tr>\n",
       "    <tr>\n",
       "      <th>...</th>\n",
       "      <td>...</td>\n",
       "      <td>...</td>\n",
       "    </tr>\n",
       "    <tr>\n",
       "      <th>31622395</th>\n",
       "      <td>2016-12-31 23:59:55 +0000</td>\n",
       "      <td>50.022</td>\n",
       "    </tr>\n",
       "    <tr>\n",
       "      <th>31622396</th>\n",
       "      <td>2016-12-31 23:59:56 +0000</td>\n",
       "      <td>50.022</td>\n",
       "    </tr>\n",
       "    <tr>\n",
       "      <th>31622397</th>\n",
       "      <td>2016-12-31 23:59:57 +0000</td>\n",
       "      <td>50.021</td>\n",
       "    </tr>\n",
       "    <tr>\n",
       "      <th>31622398</th>\n",
       "      <td>2016-12-31 23:59:58 +0000</td>\n",
       "      <td>50.020</td>\n",
       "    </tr>\n",
       "    <tr>\n",
       "      <th>31622399</th>\n",
       "      <td>2016-12-31 23:59:59 +0000</td>\n",
       "      <td>50.022</td>\n",
       "    </tr>\n",
       "  </tbody>\n",
       "</table>\n",
       "<p>31622400 rows × 2 columns</p>\n",
       "</div>"
      ],
      "text/plain": [
       "                                dtm       f\n",
       "0         2016-01-01 00:00:00 +0000  50.063\n",
       "1         2016-01-01 00:00:01 +0000  50.060\n",
       "2         2016-01-01 00:00:02 +0000  50.053\n",
       "3         2016-01-01 00:00:03 +0000  50.044\n",
       "4         2016-01-01 00:00:04 +0000  50.038\n",
       "...                             ...     ...\n",
       "31622395  2016-12-31 23:59:55 +0000  50.022\n",
       "31622396  2016-12-31 23:59:56 +0000  50.022\n",
       "31622397  2016-12-31 23:59:57 +0000  50.021\n",
       "31622398  2016-12-31 23:59:58 +0000  50.020\n",
       "31622399  2016-12-31 23:59:59 +0000  50.022\n",
       "\n",
       "[31622400 rows x 2 columns]"
      ]
     },
     "execution_count": 119,
     "metadata": {},
     "output_type": "execute_result"
    }
   ],
   "source": [
    "df_2016"
   ]
  },
  {
   "cell_type": "code",
   "execution_count": 121,
   "id": "c4a19081-c290-47d6-b45f-7567a5fd34a7",
   "metadata": {},
   "outputs": [
    {
     "data": {
      "text/plain": [
       "49.99951522523475"
      ]
     },
     "execution_count": 121,
     "metadata": {},
     "output_type": "execute_result"
    }
   ],
   "source": [
    "mean19 = df_2019['f'].mean()\n",
    "mean19"
   ]
  },
  {
   "cell_type": "code",
   "execution_count": 123,
   "id": "9ccc3f08-8030-4fe3-ad6b-38180537ef04",
   "metadata": {},
   "outputs": [
    {
     "data": {
      "text/plain": [
       "49.99954026373018"
      ]
     },
     "execution_count": 123,
     "metadata": {},
     "output_type": "execute_result"
    }
   ],
   "source": [
    "mean18 = df_2018['f'].mean()\n",
    "mean18"
   ]
  },
  {
   "cell_type": "code",
   "execution_count": 125,
   "id": "61c84655-28e2-40dc-adca-99cb2b2ba77d",
   "metadata": {},
   "outputs": [
    {
     "data": {
      "text/plain": [
       "49.999767267345355"
      ]
     },
     "execution_count": 125,
     "metadata": {},
     "output_type": "execute_result"
    }
   ],
   "source": [
    "mean17 = df_2017['f'].mean()\n",
    "mean17"
   ]
  },
  {
   "cell_type": "code",
   "execution_count": 127,
   "id": "ba010ec9-dd58-4fdc-aafe-2fde14b1ef9f",
   "metadata": {},
   "outputs": [
    {
     "data": {
      "text/plain": [
       "49.99975741420648"
      ]
     },
     "execution_count": 127,
     "metadata": {},
     "output_type": "execute_result"
    }
   ],
   "source": [
    "mean16 = df_2016['f'].mean()\n",
    "mean16"
   ]
  },
  {
   "cell_type": "code",
   "execution_count": 129,
   "id": "5e7f5495-4fd0-482a-a27a-f0df28d4c8c2",
   "metadata": {},
   "outputs": [
    {
     "data": {
      "text/plain": [
       "0.06413676008403366"
      ]
     },
     "execution_count": 129,
     "metadata": {},
     "output_type": "execute_result"
    }
   ],
   "source": [
    "stdev19 = df_2019['f'].std()\n",
    "stdev19"
   ]
  },
  {
   "cell_type": "code",
   "execution_count": 131,
   "id": "eedc735a-c7f2-4388-b924-e384f0c0d88e",
   "metadata": {},
   "outputs": [
    {
     "data": {
      "text/plain": [
       "0.06619979694933396"
      ]
     },
     "execution_count": 131,
     "metadata": {},
     "output_type": "execute_result"
    }
   ],
   "source": [
    "stdev18 = df_2018['f'].std()\n",
    "stdev18"
   ]
  },
  {
   "cell_type": "code",
   "execution_count": 133,
   "id": "11f27eaf-4821-4ad9-8651-e1f39cdd2e29",
   "metadata": {},
   "outputs": [
    {
     "data": {
      "text/plain": [
       "0.060313145784300616"
      ]
     },
     "execution_count": 133,
     "metadata": {},
     "output_type": "execute_result"
    }
   ],
   "source": [
    "stdev17 = df_2017['f'].std()\n",
    "stdev17"
   ]
  },
  {
   "cell_type": "code",
   "execution_count": 135,
   "id": "1381bcec-0e47-4ba4-835d-7f7c91ce46f1",
   "metadata": {},
   "outputs": [
    {
     "data": {
      "text/plain": [
       "0.05547457093110161"
      ]
     },
     "execution_count": 135,
     "metadata": {},
     "output_type": "execute_result"
    }
   ],
   "source": [
    "stdev16 = df_2016['f'].std()\n",
    "stdev16"
   ]
  },
  {
   "cell_type": "code",
   "execution_count": 137,
   "id": "14986cd1-6581-4fc9-812a-c0f3362bf663",
   "metadata": {},
   "outputs": [
    {
     "data": {
      "text/plain": [
       "0.030642071887173578"
      ]
     },
     "execution_count": 137,
     "metadata": {},
     "output_type": "execute_result"
    }
   ],
   "source": [
    "skew19 = df_2019['f'].skew()\n",
    "skew19"
   ]
  },
  {
   "cell_type": "code",
   "execution_count": 139,
   "id": "bcf9016d-47f4-4812-bf36-42136d3b8f0b",
   "metadata": {},
   "outputs": [
    {
     "data": {
      "text/plain": [
       "0.14306793985320065"
      ]
     },
     "execution_count": 139,
     "metadata": {},
     "output_type": "execute_result"
    }
   ],
   "source": [
    "skew18 = df_2018['f'].skew()\n",
    "skew18"
   ]
  },
  {
   "cell_type": "code",
   "execution_count": 141,
   "id": "11717b68-83c1-42b6-8bdd-def9210e2b81",
   "metadata": {},
   "outputs": [
    {
     "data": {
      "text/plain": [
       "0.17418984273777707"
      ]
     },
     "execution_count": 141,
     "metadata": {},
     "output_type": "execute_result"
    }
   ],
   "source": [
    "skew17 = df_2017['f'].skew()\n",
    "skew17"
   ]
  },
  {
   "cell_type": "code",
   "execution_count": 143,
   "id": "9eb377e1-a95a-4f53-b134-d494820b2959",
   "metadata": {},
   "outputs": [
    {
     "data": {
      "text/plain": [
       "0.1912503209107049"
      ]
     },
     "execution_count": 143,
     "metadata": {},
     "output_type": "execute_result"
    }
   ],
   "source": [
    "skew16 = df_2016['f'].skew()\n",
    "skew16"
   ]
  },
  {
   "cell_type": "code",
   "execution_count": 151,
   "id": "bdf3860d-ca6b-446f-8cd7-9de4e5491dd8",
   "metadata": {},
   "outputs": [],
   "source": [
    "metrics = {\n",
    "    'Year': ['2019', '2018', '2017', '2016'],\n",
    "    'Mean': [mean19, mean18, mean17, mean16],\n",
    "    'Std Deviation': [stdev19, stdev18, stdev17, stdev16],\n",
    "    'Skewness': [skew19, skew18, skew17,skew16],\n",
    "}"
   ]
  },
  {
   "cell_type": "code",
   "execution_count": 153,
   "id": "406197c1-0f73-467a-b534-b223d4cdde64",
   "metadata": {},
   "outputs": [
    {
     "data": {
      "text/html": [
       "<div>\n",
       "<style scoped>\n",
       "    .dataframe tbody tr th:only-of-type {\n",
       "        vertical-align: middle;\n",
       "    }\n",
       "\n",
       "    .dataframe tbody tr th {\n",
       "        vertical-align: top;\n",
       "    }\n",
       "\n",
       "    .dataframe thead th {\n",
       "        text-align: right;\n",
       "    }\n",
       "</style>\n",
       "<table border=\"1\" class=\"dataframe\">\n",
       "  <thead>\n",
       "    <tr style=\"text-align: right;\">\n",
       "      <th></th>\n",
       "      <th>Year</th>\n",
       "      <th>Mean</th>\n",
       "      <th>Std Deviation</th>\n",
       "      <th>Skewness</th>\n",
       "    </tr>\n",
       "  </thead>\n",
       "  <tbody>\n",
       "    <tr>\n",
       "      <th>0</th>\n",
       "      <td>2019</td>\n",
       "      <td>49.999515</td>\n",
       "      <td>0.064137</td>\n",
       "      <td>0.030642</td>\n",
       "    </tr>\n",
       "    <tr>\n",
       "      <th>1</th>\n",
       "      <td>2018</td>\n",
       "      <td>49.999540</td>\n",
       "      <td>0.066200</td>\n",
       "      <td>0.143068</td>\n",
       "    </tr>\n",
       "    <tr>\n",
       "      <th>2</th>\n",
       "      <td>2017</td>\n",
       "      <td>49.999767</td>\n",
       "      <td>0.060313</td>\n",
       "      <td>0.174190</td>\n",
       "    </tr>\n",
       "    <tr>\n",
       "      <th>3</th>\n",
       "      <td>2016</td>\n",
       "      <td>49.999757</td>\n",
       "      <td>0.055475</td>\n",
       "      <td>0.191250</td>\n",
       "    </tr>\n",
       "  </tbody>\n",
       "</table>\n",
       "</div>"
      ],
      "text/plain": [
       "   Year       Mean  Std Deviation  Skewness\n",
       "0  2019  49.999515       0.064137  0.030642\n",
       "1  2018  49.999540       0.066200  0.143068\n",
       "2  2017  49.999767       0.060313  0.174190\n",
       "3  2016  49.999757       0.055475  0.191250"
      ]
     },
     "execution_count": 153,
     "metadata": {},
     "output_type": "execute_result"
    }
   ],
   "source": [
    "metrics_df = pd.DataFrame(metrics)\n",
    "metrics_df"
   ]
  },
  {
   "cell_type": "code",
   "execution_count": 175,
   "id": "7722d597-b5f3-4a43-bf07-fe150c2d0a0b",
   "metadata": {},
   "outputs": [
    {
     "data": {
      "text/plain": [
       "Text(0, 0.5, 'Mean')"
      ]
     },
     "execution_count": 175,
     "metadata": {},
     "output_type": "execute_result"
    },
    {
     "data": {
      "image/png": "[encoded data removed]",
      "text/plain": [
       "<Figure size 1400x800 with 1 Axes>"
      ]
     },
     "metadata": {},
     "output_type": "display_data"
    }
   ],
   "source": [
    "plt.figure(figsize=(14, 8))\n",
    "plt.subplot(3, 2, 3)\n",
    "sns.lineplot(x='Year', y='Mean', data=metrics_df, marker='o')\n",
    "plt.title('Year-to-Year Change of Mean')\n",
    "plt.ylabel('Mean')"
   ]
  },
  {
   "cell_type": "code",
   "execution_count": 173,
   "id": "6f209e9d-d13a-44da-8d6f-36d934958f8f",
   "metadata": {},
   "outputs": [
    {
     "data": {
      "text/plain": [
       "Text(0, 0.5, 'Skewness')"
      ]
     },
     "execution_count": 173,
     "metadata": {},
     "output_type": "execute_result"
    },
    {
     "data": {
      "image/png": "[encoded data removed]",
      "text/plain": [
       "<Figure size 1400x800 with 1 Axes>"
      ]
     },
     "metadata": {},
     "output_type": "display_data"
    }
   ],
   "source": [
    "plt.figure(figsize=(14, 8))\n",
    "plt.subplot(3, 2, 3)\n",
    "sns.lineplot(x='Year', y='Std Deviation', data=metrics_df, marker='o')\n",
    "plt.title('Year-to-Year Change of Std Deviation')\n",
    "plt.ylabel('Skewness')"
   ]
  },
  {
   "cell_type": "code",
   "execution_count": 169,
   "id": "67f1b24e-ffcd-48ea-ac14-41133403f03a",
   "metadata": {},
   "outputs": [
    {
     "data": {
      "text/plain": [
       "Text(0, 0.5, 'Skewness')"
      ]
     },
     "execution_count": 169,
     "metadata": {},
     "output_type": "execute_result"
    },
    {
     "data": {
      "image/png": "[encoded data removed]",
      "text/plain": [
       "<Figure size 1400x800 with 1 Axes>"
      ]
     },
     "metadata": {},
     "output_type": "display_data"
    }
   ],
   "source": [
    "plt.figure(figsize=(14, 8))\n",
    "plt.subplot(3, 2, 3)\n",
    "sns.lineplot(x='Year', y='Skewness', data=metrics_df, marker='o')\n",
    "plt.title('Year-to-Year Change of Skewness')\n",
    "plt.ylabel('Skewness')"
   ]
  },
  {
   "cell_type": "code",
   "execution_count": null,
   "id": "6ed08a73-b464-49cb-b30d-6dac1e52a14f",
   "metadata": {},
   "outputs": [],
   "source": []
  }
 ],
 "metadata": {
  "kernelspec": {
   "display_name": "Python 3 (ipykernel)",
   "language": "python",
   "name": "python3"
  },
  "language_info": {
   "codemirror_mode": {
    "name": "ipython",
    "version": 3
   },
   "file_extension": ".py",
   "mimetype": "text/x-python",
   "name": "python",
   "nbconvert_exporter": "python",
   "pygments_lexer": "ipython3",
   "version": "3.11.5"
  }
 },
 "nbformat": 4,
 "nbformat_minor": 5
}
